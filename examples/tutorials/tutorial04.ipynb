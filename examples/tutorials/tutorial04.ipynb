{
 "metadata": {
  "name": "",
  "signature": "sha256:e6d8b18276431896cf36a7eca0c267fd6e92252e8e46eeda885dd65599bd3bd3"
 },
 "nbformat": 3,
 "nbformat_minor": 0,
 "worksheets": [
  {
   "cells": [
    {
     "cell_type": "markdown",
     "metadata": {},
     "source": [
      "This tutorial will start to examine what goes into a <b>CatalogDBObject</b>\n",
      "\n",
      "After reading this script, you should probably look at the classes defined\n",
      "by the scripts in\n",
      "\n",
      "sims_catUtils/python/lsst/sims/catUtils/baseCatalogModels/\n",
      "\n",
      "These files will contain most of the <b>CatalogDBObject</b> daughter classes that\n",
      "have so far been defined.  Here you can see how the functionality described\n",
      "below is implemented for actual, physically interesting cases.\n",
      "\n",
      "First, we require some code that will make a database.  The  code below\n",
      "will make a database containing a table named 'example' that contains\n",
      "nonsense columns col1-col5"
     ]
    },
    {
     "cell_type": "code",
     "collapsed": false,
     "input": [
      "import os\n",
      "import numpy\n",
      "import sqlite3\n",
      "\n",
      "def makeTestDB(filename='tutorialDatabase.db', size=1000, seedVal=None, **kwargs):\n",
      "    \"\"\"\n",
      "    make a test database for tutorial purposes\n",
      "    @param size: Number of rows in the database\n",
      "    @param seedVal: Random seed to use\n",
      "    \"\"\"\n",
      "\n",
      "    if os.path.exists(filename):\n",
      "        os.unlink(filename)\n",
      "\n",
      "    conn = sqlite3.connect(filename)\n",
      "    c = conn.cursor()\n",
      "    try:\n",
      "        c.execute('''CREATE TABLE example\n",
      "                     (id int, col1 int, col2 int, col3 real, col4 real, col5 text)''')\n",
      "        conn.commit()\n",
      "    except:\n",
      "        raise RuntimeError(\"Error creating database.\")\n",
      "    if seedVal:\n",
      "        seed(seedVal)\n",
      "\n",
      "    numpy.random.seed(seedVal)\n",
      "    c1 = numpy.random.randint(0,100,size)\n",
      "    c2 = numpy.random.randint(0,100,size)\n",
      "    c3 = numpy.random.random_sample(size)\n",
      "    c4 = numpy.random.random_sample(size)\n",
      "\n",
      "    for i in xrange(size):\n",
      "        c5 = '%sth_row' % i\n",
      "        qstr = '''INSERT INTO example VALUES (%i, %i, %i, %f, %f,\n",
      "                     '%s')'''%\\\n",
      "                   (i,c1[i],c2[i],c3[i],c4[i],c5)\n",
      "        c.execute(qstr)\n",
      "\n",
      "    conn.commit()\n",
      "    conn.close()"
     ],
     "language": "python",
     "metadata": {},
     "outputs": []
    },
    {
     "cell_type": "markdown",
     "metadata": {},
     "source": [
      "Now we will discuss how to define a daughter class of <b>CatalogDBobject</b>.\n",
      "Recall that <b>CatalogDBobject</b> is defined in\n",
      "\n",
      "sims_catalogs_generation/python/lsst/sims/catalogs/generation/db/dbConnnection.py\n",
      "\n",
      "As with <b>InstanceCatalog</b>, daughter classes of <b>CatalogDBobject</b> should not contain\n",
      "an `__init__()`.  They will use `__init__()` defined in the original <b>CatalogDBObject</b> class.  Any member variables that are unique to the daughter class should be defined in the class definition.\n",
      "\n",
      "The most important member variables in a <b>CatalogDBObject</b> are\n",
      "\n",
      "* `driver`: this is the driver name to the database ('sqlite' in this case).  This can be passed in through `__init__()`\n",
      "\n",
      "* `database`: this is the database name or sqlite filename.  This can be passed in through `__init__()`\n",
      "\n",
      "* `tableid`: this is a string indicating with what table in the database this\n",
      "<b>CatalogDBObject</b> is associated\n",
      "\n",
      "* `idColKey`: this is a string indicating the name of the column that serves as\n",
      "a unique identifier for objects in the database\n",
      "\n",
      "* `objid`: like `catalog_type` in <b>InstanceCatalog</b> daughter classes, this is the\n",
      "handle that is passed to `CatalogDBObject.from_objid()` when you want\n",
      "to automatically instantiate this <b>CatalogDBObject</b> daughter class.\n",
      "\n",
      "The purpose of a <b>CatalogDBObject</b> is to provide <b>InstanceCatalog</b> with a connection\n",
      "to the database.  Every <b>InstanceCatalog</b> instantiation has a member variable\n",
      "`self.db_obj`.  This is a <b>CatalogDBObject</b>.  If you examine the method\n",
      "`write_catalog()` in <b>InstanceCatalog</b>, you will see that <b>InstanceCatalog</b> gets its\n",
      "data by calling `self.db_obj.query_columns()`.  This supplies all of the columns\n",
      "not defined by getters or default values in the <b>InstanceCatalog</b>.\n",
      "`InstanceCatalog. query_columns()` can get two different kinds of columns.  \n",
      "It can get columns that simply exist in the database by querying the names of columns \n",
      "as they are stored in the database.  It can also get columns that are simple \n",
      "transformations of columns stored in the database.  This process is handled \n",
      "using the <b>CatalogDBObject</b> member variable `columns`.\n",
      "\n",
      "`columns` is a list.  It is somewhat analogous to the `default_columns` member\n",
      "variable of <b>InstanceCatalog</b>.  Each entry in the list is a tuple.  The first\n",
      "element of each tuple is the name of the transformed column.  The second\n",
      "element is an expression calculating that column from a column stored in the\n",
      "database.  The (optional) third element is the datatype of the transformed\n",
      "column.\n",
      "\n",
      "Consider the class `StarBase` from\n",
      "\n",
      "sims_catUtils/python/lsst/sims/catUtils/baseCatalogModels/StarModels.py\n",
      "\n",
      "It contains\n",
      "\n",
      "    columns = [('id','simobjid', int),\n",
      "               ('raJ2000', 'ra*PI()/180.'),\n",
      "               ('decJ2000', 'decl*PI()/180.'),\n",
      "               ('glon', 'gal_l*PI()/180.'),\n",
      "               ('glat', 'gal_b*PI()/180.'),\n",
      "               ('magNorm', '(-2.5*log(flux_scale)/log(10.)) - 18.402732642'),\n",
      "               ('properMotionRa', '(mura/(1000.*3600.))*PI()/180.'),\n",
      "               ('properMotionDec', '(mudecl/(1000.*3600.))*PI()/180.'),\n",
      "               ('galacticAv', 'CONVERT(float, ebv*3.1)'),\n",
      "               ('radialVelocity', 'vrad'),\n",
      "               ('variabilityParameters', 'varParamStr', str, 256),\n",
      "               ('sedFilename', 'sedfilename', unicode, 40)]\n",
      "\n",
      "Ths list tells the Catalog DBObject that:\n",
      "\n",
      "* `id` is just `simobjid` cast as an int\n",
      "\n",
      "* `raJ2000` is `ra` converted from degrees to radians (the type is implicit)\n",
      "\n",
      "* ditto for `decJ2000`, `glon`, and `glat`\n",
      "\n",
      "* `magNorm` is determined from `flux_scale` using the relationship between\n",
      "magnitude and flux\n",
      "\n",
      "* `properMotionRa` and `properMotionDec` are calculated by converting\n",
      "`mura` and `mudecl` from milliarcseconds/yr to radians/yr\n",
      "\n",
      "* `galacticAv` is `ebv` multiplied by 3.1 and cast as a float\n",
      "\n",
      "* `radialVelocity` is `vrad` (no change except the column's name)\n",
      "\n",
      "* `variabilityParameters` is a string of maximum 256 characters and is\n",
      "identical to `varParamStr`\n",
      "\n",
      "* `sedFilename` is a 40 character unicode string and is identical to\n",
      "`sedfilename`\n",
      "\n",
      "Thus, there are two types of columns supplied by a <b>CatalogDBObject</b>:\n",
      "the raw contents of the database, and the raw contents of the database\n",
      "plus the mapped columns.\n",
      "\n",
      "Fortunately, there are methods to tell you what columns are available from\n",
      "each <b>CatalogDBObject</b>.\n",
      "\n",
      "`show_db_columns()` will print the raw database columns to the screen.\n",
      "\n",
      "`show_mapped_columns()` will print both the raw database columns and the mapped\n",
      "columns to the screen.\n",
      "\n",
      "We demonstrate those methods below.  After that, we show an example call to\n",
      "`query_columns`.  There will be more documentation where that actually occurs."
     ]
    },
    {
     "cell_type": "code",
     "collapsed": false,
     "input": [
      "from lsst.sims.catalogs.generation.db import CatalogDBObject\n",
      "\n",
      "class TutorialDB(CatalogDBObject):\n",
      "    \"\"\"\n",
      "    Here we define a tutorial CatalogDBObject\n",
      "    \"\"\"\n",
      "\n",
      "    #the database table that this class queries\n",
      "    tableid = 'example'\n",
      "\n",
      "    #the column that uniquely identifies each object in the catalog\n",
      "    idColKey = 'id'\n",
      "\n",
      "    #this is the handle that can be passed to CatalogDBObject.from_objid()\n",
      "    #as in tutorial00\n",
      "    objid = 'tutorial_DBobject'\n",
      "\n",
      "    #here we convert the raw database columns into mapped columns\n",
      "    columns = [('TwiceColumn1','2.0*col1'),\n",
      "              ('ThreeTimesColumn2','3.0*col2'),\n",
      "              ('rowNumber','col5',str,10)]\n"
     ],
     "language": "python",
     "metadata": {},
     "outputs": []
    },
    {
     "cell_type": "markdown",
     "metadata": {},
     "source": [
      "As usual, do not call the above cells more than once unless you want to see an ugly but innocuous error message."
     ]
    },
    {
     "cell_type": "markdown",
     "metadata": {},
     "source": [
      "Now, make the test database and instantiate the <b>CatalogDBObject</b> daughter class"
     ]
    },
    {
     "cell_type": "code",
     "collapsed": false,
     "input": [
      "makeTestDB('tutorialDB.db', size=10)\n",
      "myDB = TutorialDB(driver='sqlite', database='tutorialDB.db')\n"
     ],
     "language": "python",
     "metadata": {},
     "outputs": []
    },
    {
     "cell_type": "markdown",
     "metadata": {},
     "source": [
      "Now show all of the columns in the database"
     ]
    },
    {
     "cell_type": "code",
     "collapsed": false,
     "input": [
      "myDB.show_db_columns()"
     ],
     "language": "python",
     "metadata": {},
     "outputs": []
    },
    {
     "cell_type": "markdown",
     "metadata": {},
     "source": [
      "Now show all of the columns in the <b>CatalogDBObject</b> daughter class"
     ]
    },
    {
     "cell_type": "code",
     "collapsed": false,
     "input": [
      "myDB.show_mapped_columns()"
     ],
     "language": "python",
     "metadata": {},
     "outputs": []
    },
    {
     "cell_type": "markdown",
     "metadata": {},
     "source": [
      "Now we will use the `query_columns` method to query the database.\n",
      "Ordinarily, the user should not have to do this.  <b>InstanceCatalog</b> does it\n",
      "automatically.  This is just for illustrative purposes.  `query_columns` returns a `ChunkIterator` as defined in\n",
      "\n",
      "sims_catalogs_generation/python/lsst/sims/catalogs/generation/db/dbConnection.py\n",
      "\n",
      "which returns chunks of columns at a time (the number of rows in each chunk is\n",
      "specified by the `chunk_size` kwarg passed to `query_columns`)"
     ]
    },
    {
     "cell_type": "code",
     "collapsed": false,
     "input": [
      "#specify the names of the columns to be queried\n",
      "colNames = ['rowNumber', 'TwiceColumn1', 'col1', 'ThreeTimesColumn2', 'col2']\n",
      "\n",
      "result = myDB.query_columns(colnames=colNames, chunk_size=5)\n",
      "\n",
      "for chunk in result:\n",
      "    for row in chunk:\n",
      "        print row\n",
      "print '\\n'\n"
     ],
     "language": "python",
     "metadata": {},
     "outputs": []
    },
    {
     "cell_type": "markdown",
     "metadata": {},
     "source": [
      "One also has the option of passing a constraint to `query_columns` to limit the\n",
      "rows that are returned by the query.  In many cases, this constraint is supplied\n",
      "by the <b>ObservationMetaData</b> (specifically the `ObservationMetaData.bounds` member variable)\n"
     ]
    },
    {
     "cell_type": "code",
     "collapsed": false,
     "input": [
      "result = myDB.query_columns(colnames=colNames, constraint='id<6', chunk_size=5)\n",
      "for chunk in result:\n",
      "    for row in chunk:\n",
      "        print row"
     ],
     "language": "python",
     "metadata": {},
     "outputs": []
    },
    {
     "cell_type": "markdown",
     "metadata": {},
     "source": [
      "Now let' define an <b>InstanceCatalog</b> daughter class to output the contents of our tutorial database as a catalog"
     ]
    },
    {
     "cell_type": "code",
     "collapsed": false,
     "input": [
      "from lsst.sims.catalogs.measures.instance import InstanceCatalog, cached\n",
      "\n",
      "class TestCatalog(InstanceCatalog):\n",
      "    column_outputs = ['col1', 'col2', 'col3', 'col4', 'threeMinusFour']\n",
      "    catalog_type = 'test_catalog'\n",
      "\n",
      "    @cached\n",
      "    def get_threeMinusFour(self):\n",
      "        three = self.column_by_name('col3')\n",
      "        four = self.column_by_name('col4')\n",
      "        return three-four"
     ],
     "language": "python",
     "metadata": {},
     "outputs": []
    },
    {
     "cell_type": "markdown",
     "metadata": {},
     "source": [
      "Now let's write out our test catalog"
     ]
    },
    {
     "cell_type": "code",
     "collapsed": false,
     "input": [
      "myCat = TestCatalog(myDB)\n",
      "myCat.write_catalog('cartoon_catalog.txt')"
     ],
     "language": "python",
     "metadata": {},
     "outputs": []
    }
   ],
   "metadata": {}
  }
 ]
}