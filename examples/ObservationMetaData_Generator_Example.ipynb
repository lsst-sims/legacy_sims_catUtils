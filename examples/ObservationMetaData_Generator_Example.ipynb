{
 "cells": [
  {
   "cell_type": "code",
   "execution_count": 1,
   "metadata": {
    "collapsed": true
   },
   "outputs": [],
   "source": [
    "import os\n",
    "import numpy"
   ]
  },
  {
   "cell_type": "code",
   "execution_count": 2,
   "metadata": {
    "collapsed": false
   },
   "outputs": [
    {
     "name": "stderr",
     "output_type": "stream",
     "text": [
      "/Users/rbiswas/src/LSST/sims_catalogs_generation/python/lsst/sims/catalogs/generation/db/dbConnection.py:438: UserWarning: Duplicate object type id 25 specified: \n",
      "Output object ids may not be unique.\n",
      "This may not be a problem if you do not want globally unique id values\n",
      "  'want globally unique id values')\n",
      "/Users/rbiswas/src/LSST/sims_catalogs_generation/python/lsst/sims/catalogs/generation/db/dbConnection.py:438: UserWarning: Duplicate object type id 40 specified: \n",
      "Output object ids may not be unique.\n",
      "This may not be a problem if you do not want globally unique id values\n",
      "  'want globally unique id values')\n"
     ]
    }
   ],
   "source": [
    "from lsst.sims.catUtils.utils import ObservationMetaDataGenerator"
   ]
  },
  {
   "cell_type": "code",
   "execution_count": 3,
   "metadata": {
    "collapsed": true
   },
   "outputs": [],
   "source": [
    "from lsst.utils import getPackageDir"
   ]
  },
  {
   "cell_type": "code",
   "execution_count": 4,
   "metadata": {
    "collapsed": false
   },
   "outputs": [],
   "source": [
    "# Specify the path to an OpSim database\n",
    "dbPath = os.path.join(getPackageDir('sims_data'), 'OpSimData/opsimblitz1_1133_sqlite.db')"
   ]
  },
  {
   "cell_type": "code",
   "execution_count": 5,
   "metadata": {
    "collapsed": false
   },
   "outputs": [],
   "source": [
    "gen = ObservationMetaDataGenerator(database=dbPath, driver='sqlite')"
   ]
  },
  {
   "cell_type": "code",
   "execution_count": 6,
   "metadata": {
    "collapsed": true
   },
   "outputs": [],
   "source": [
    "bounds = [\n",
    "        ('obsHistID',5973),\n",
    "        ('expDate',1220779),\n",
    "        ('fieldRA',numpy.degrees(1.370916)),\n",
    "        ('fieldDec',numpy.degrees(-0.456238)),\n",
    "        ('moonRA',numpy.degrees(2.914132)),\n",
    "        ('moonDec',numpy.degrees(0.06305)),\n",
    "        ('rotSkyPos',numpy.degrees(3.116656)),\n",
    "        ('telescopeFilter','i'),\n",
    "        ('rawSeeing',0.728562),\n",
    "        ('seeing', 0.88911899999999999),\n",
    "        ('sunAlt',numpy.degrees(-0.522905)),\n",
    "        ('moonAlt',numpy.degrees(0.099096)),\n",
    "        ('dist2Moon',numpy.degrees(1.570307)),\n",
    "        ('moonPhase',52.2325),\n",
    "        ('expMJD',49367.129396),\n",
    "        ('altitude',numpy.degrees(0.781015)),\n",
    "        ('azimuth',numpy.degrees(3.470077)),\n",
    "        ('visitExpTime',30.0),\n",
    "        ('airmass',1.420459),\n",
    "        ('m5',22.815249),\n",
    "        ('skyBrightness',19.017605)]"
   ]
  },
  {
   "cell_type": "markdown",
   "metadata": {},
   "source": [
    "## Query the OpSim database\n",
    "\n",
    "We can use these to query the Opsim database and get the OpSim records. These are in the form of `numpy.recarray`s"
   ]
  },
  {
   "cell_type": "code",
   "execution_count": 7,
   "metadata": {
    "collapsed": false
   },
   "outputs": [],
   "source": [
    "OpSimRecords = gen.getOpSimRecords(fieldRA=(numpy.degrees(1.370916), numpy.degrees(1.5348635)),\n",
    "                                     limit=20)"
   ]
  },
  {
   "cell_type": "markdown",
   "metadata": {},
   "source": [
    "On the other hand we can also get the instances of Observation Meta Data which are required to build CatSim and PhoSim Instance Catalogs"
   ]
  },
  {
   "cell_type": "code",
   "execution_count": 8,
   "metadata": {
    "collapsed": false
   },
   "outputs": [],
   "source": [
    "newresults = gen.getObservationMetaData(fieldRA=(numpy.degrees(1.370916), numpy.degrees(1.5348635)),\n",
    "                                     limit=20)"
   ]
  },
  {
   "cell_type": "markdown",
   "metadata": {},
   "source": [
    "However, if we just have OpSim records in the form of tuples, we can get instances of ObservationMetaData corresponding to them:"
   ]
  },
  {
   "cell_type": "code",
   "execution_count": 9,
   "metadata": {
    "collapsed": false
   },
   "outputs": [],
   "source": [
    "record = OpSimRecords[0]\n",
    "colnames = OpSimRecords.dtype.names"
   ]
  },
  {
   "cell_type": "code",
   "execution_count": 10,
   "metadata": {
    "collapsed": false,
    "scrolled": true
   },
   "outputs": [
    {
     "name": "stdout",
     "output_type": "stream",
     "text": [
      "(11, 3157, 1.532509, -0.635345, 2.451784, 0.189578, 1.645979, 'y', 0.90396, 0.986894, -0.228723, -0.205508, 1.194487, 89.122626, 49353.036546, 0.910651, 1.960608, 30.0, 1.265982, 21.06111, 17.0)\n"
     ]
    }
   ],
   "source": [
    "print(record)"
   ]
  },
  {
   "cell_type": "code",
   "execution_count": 11,
   "metadata": {
    "collapsed": false
   },
   "outputs": [
    {
     "name": "stdout",
     "output_type": "stream",
     "text": [
      "('obsHistID', 'expDate', 'fieldRA', 'fieldDec', 'moonRA', 'moonDec', 'rotSkyPos', 'filter', 'rawSeeing', 'finSeeing', 'sunAlt', 'moonAlt', 'dist2Moon', 'moonPhase', 'expMJD', 'altitude', 'azimuth', 'visitExpTime', 'airmass', 'fiveSigmaDepth', 'filtSkyBrightness')\n"
     ]
    }
   ],
   "source": [
    "print(colnames)"
   ]
  },
  {
   "cell_type": "code",
   "execution_count": 12,
   "metadata": {
    "collapsed": false
   },
   "outputs": [],
   "source": [
    "obsMetaData = ObservationMetaDataGenerator.ObservationMetaDataForPointing(record, \n",
    "                                                                          OpSimColumns=colnames,\n",
    "                                                                        columnMap=ObservationMetaDataGenerator.OpSimColumnMap('finSeeing'))"
   ]
  },
  {
   "cell_type": "code",
   "execution_count": 13,
   "metadata": {
    "collapsed": false
   },
   "outputs": [
    {
     "data": {
      "text/plain": [
       "{'y': 21.061109999999999}"
      ]
     },
     "execution_count": 13,
     "metadata": {},
     "output_type": "execute_result"
    }
   ],
   "source": [
    "obsMetaData.m5"
   ]
  },
  {
   "cell_type": "code",
   "execution_count": 14,
   "metadata": {
    "collapsed": false
   },
   "outputs": [
    {
     "data": {
      "text/plain": [
       "17.0"
      ]
     },
     "execution_count": 14,
     "metadata": {},
     "output_type": "execute_result"
    }
   ],
   "source": [
    "obsMetaData.skyBrightness"
   ]
  },
  {
   "cell_type": "markdown",
   "metadata": {},
   "source": [
    "## This can therefore be used with other ways of getting OpSim records"
   ]
  },
  {
   "cell_type": "code",
   "execution_count": 15,
   "metadata": {
    "collapsed": true
   },
   "outputs": [],
   "source": [
    "import pandas as pd"
   ]
  },
  {
   "cell_type": "code",
   "execution_count": 16,
   "metadata": {
    "collapsed": true
   },
   "outputs": [],
   "source": [
    "import sqlite3"
   ]
  },
  {
   "cell_type": "code",
   "execution_count": 17,
   "metadata": {
    "collapsed": true
   },
   "outputs": [],
   "source": [
    "conn = sqlite3.connect(dbPath)"
   ]
  },
  {
   "cell_type": "code",
   "execution_count": 18,
   "metadata": {
    "collapsed": true
   },
   "outputs": [],
   "source": [
    "results = pd.read_sql_query('SELECT * FROM Summary LIMIT 5', con=conn, index_col='obsHistID').to_records()"
   ]
  },
  {
   "cell_type": "markdown",
   "metadata": {},
   "source": [
    "One problem in this is that string objects are represented as 'Object' in `pandas.DataFrame` as it does not have a string type. We can convert this in the following way"
   ]
  },
  {
   "cell_type": "code",
   "execution_count": 19,
   "metadata": {
    "collapsed": true
   },
   "outputs": [],
   "source": [
    "mytypes = []\n",
    "for i, val in enumerate(results.dtype.descr):\n",
    "    if val[1] == '|O':\n",
    "        mytypes.append((val[0], '|S1'))\n",
    "    else:\n",
    "        mytypes.append(val)"
   ]
  },
  {
   "cell_type": "code",
   "execution_count": 20,
   "metadata": {
    "collapsed": true
   },
   "outputs": [],
   "source": [
    "results = results.astype(mytypes)"
   ]
  },
  {
   "cell_type": "code",
   "execution_count": 22,
   "metadata": {
    "collapsed": true
   },
   "outputs": [],
   "source": [
    "columnMap = ObservationMetaDataGenerator.OpSimColumnMap('finSeeing')"
   ]
  },
  {
   "cell_type": "code",
   "execution_count": 23,
   "metadata": {
    "collapsed": false
   },
   "outputs": [],
   "source": [
    "obs_metaData = ObservationMetaDataGenerator.ObservationMetaDataForPointing(results[0], columnMap=columnMap, OpSimColumns=results.dtype.names)"
   ]
  },
  {
   "cell_type": "code",
   "execution_count": 31,
   "metadata": {
    "collapsed": false
   },
   "outputs": [
    {
     "data": {
      "text/plain": [
       "OrderedDict([('Opsim_obshistid', (1, dtype('int64'))),\n",
       "             ('SIM_SEED', (2771, dtype('int64'))),\n",
       "             ('pointingRA', (1.6764829999999999, dtype('float64'))),\n",
       "             ('pointingDec', (-1.082473, dtype('float64'))),\n",
       "             ('Opsim_moonra', (2.4506920000000001, dtype('float64'))),\n",
       "             ('Opsim_moondec', (0.18985099999999999, dtype('float64'))),\n",
       "             ('Opsim_rotskypos', (1.280457, dtype('float64'))),\n",
       "             ('Opsim_filter', ('y', dtype('S1'))),\n",
       "             ('Opsim_rawseeing', (0.77972600000000003, dtype('float64'))),\n",
       "             ('Opsim_sunalt', (-0.20924100000000001, dtype('float64'))),\n",
       "             ('Opsim_moonalt', (-0.22903399999999999, dtype('float64'))),\n",
       "             ('Opsim_dist2moon', (1.4073260000000001, dtype('float64'))),\n",
       "             ('Opsim_moonphase', (89.153486000000001, dtype('float64'))),\n",
       "             ('Opsim_expmjd', (49353.032078999997, dtype('float64'))),\n",
       "             ('Opsim_altitude', (0.73819100000000004, dtype('float64'))),\n",
       "             ('Opsim_azimuth', (2.5978759999999999, dtype('float64'))),\n",
       "             ('exptime', (30.0, dtype('float64'))),\n",
       "             ('airmass', (1.4859990000000001, dtype('float64')))])"
      ]
     },
     "execution_count": 31,
     "metadata": {},
     "output_type": "execute_result"
    }
   ],
   "source": [
    "obs_metaData.phoSimMetaData"
   ]
  },
  {
   "cell_type": "code",
   "execution_count": 35,
   "metadata": {
    "collapsed": false
   },
   "outputs": [],
   "source": [
    "direct = gen.getObservationMetaDataOld(obsHistID=1)"
   ]
  },
  {
   "cell_type": "code",
   "execution_count": 36,
   "metadata": {
    "collapsed": false
   },
   "outputs": [
    {
     "data": {
      "text/plain": [
       "OrderedDict([('Opsim_obshistid', (1, dtype('int64'))),\n",
       "             ('SIM_SEED', (2771, dtype('int64'))),\n",
       "             ('pointingRA', (1.6764829999999999, dtype('float64'))),\n",
       "             ('pointingDec', (-1.082473, dtype('float64'))),\n",
       "             ('Opsim_moonra', (2.4506920000000001, dtype('float64'))),\n",
       "             ('Opsim_moondec', (0.18985099999999999, dtype('float64'))),\n",
       "             ('Opsim_rotskypos', (1.280457, dtype('float64'))),\n",
       "             ('Opsim_filter', ('y', dtype('S1'))),\n",
       "             ('Opsim_rawseeing', (0.77972600000000003, dtype('float64'))),\n",
       "             ('Opsim_sunalt', (-0.20924100000000001, dtype('float64'))),\n",
       "             ('Opsim_moonalt', (-0.22903399999999999, dtype('float64'))),\n",
       "             ('Opsim_dist2moon', (1.4073260000000001, dtype('float64'))),\n",
       "             ('Opsim_moonphase', (89.153486000000001, dtype('float64'))),\n",
       "             ('Opsim_expmjd', (49353.032078999997, dtype('float64'))),\n",
       "             ('Opsim_altitude', (0.73819100000000004, dtype('float64'))),\n",
       "             ('Opsim_azimuth', (2.5978759999999999, dtype('float64'))),\n",
       "             ('exptime', (30.0, dtype('float64'))),\n",
       "             ('airmass', (1.4859990000000001, dtype('float64')))])"
      ]
     },
     "execution_count": 36,
     "metadata": {},
     "output_type": "execute_result"
    }
   ],
   "source": [
    "direct[0].phoSimMetaData"
   ]
  },
  {
   "cell_type": "code",
   "execution_count": null,
   "metadata": {
    "collapsed": true
   },
   "outputs": [],
   "source": []
  }
 ],
 "metadata": {
  "kernelspec": {
   "display_name": "Python 2",
   "language": "python",
   "name": "python2"
  },
  "language_info": {
   "codemirror_mode": {
    "name": "ipython",
    "version": 2
   },
   "file_extension": ".py",
   "mimetype": "text/x-python",
   "name": "python",
   "nbconvert_exporter": "python",
   "pygments_lexer": "ipython2",
   "version": "2.7.11"
  }
 },
 "nbformat": 4,
 "nbformat_minor": 0
}
